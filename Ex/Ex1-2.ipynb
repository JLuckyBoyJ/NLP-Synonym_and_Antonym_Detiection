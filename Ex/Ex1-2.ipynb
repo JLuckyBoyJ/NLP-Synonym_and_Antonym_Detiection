{
 "cells": [
  {
   "cell_type": "code",
   "execution_count": 1,
   "metadata": {},
   "outputs": [],
   "source": [
    "# Import libraries\n",
    "import pandas as pd\n",
    "import numpy as np\n",
    "import scipy\n",
    "from scipy import stats\n",
    "from scipy import spatial\n",
    "from numpy.linalg import norm\n",
    "from sklearn.neighbors import NearestNeighbors"
   ]
  },
  {
   "cell_type": "code",
   "execution_count": 2,
   "metadata": {},
   "outputs": [],
   "source": [
    "# Load ViSim\n",
    "data = pd.read_csv(\"datasets/ViSim-400/Visim-400.txt\", sep = \"\\t\")"
   ]
  },
  {
   "cell_type": "code",
   "execution_count": 3,
   "metadata": {},
   "outputs": [],
   "source": [
    "# Load word2vec data\n",
    "word2vec = {}\n",
    "coordinates = []\n",
    "with open(\"word2vec/W2V_150.txt\", 'r', encoding='utf-8') as f:\n",
    "    N = int(f.readline())\n",
    "    dim = int(f.readline())\n",
    "    for i in range(N):\n",
    "        line = f.readline()\n",
    "        elements = line.split()\n",
    "        word2vec[elements[0]] = np.asanyarray([float(i) for i in elements[1:]], dtype=np.float32)\n",
    "        coordinates.append(word2vec[elements[0]])\n",
    "coordinates = np.array(coordinates)\n",
    "list_word = np.array(list(word2vec.keys()))"
   ]
  },
  {
   "cell_type": "code",
   "execution_count": 38,
   "metadata": {},
   "outputs": [],
   "source": [
    "# Init parameters\n",
    "# Number of nearest neighbors\n",
    "K = 10\n",
    "# Word queried\n",
    "w = \"nhà\""
   ]
  },
  {
   "cell_type": "code",
   "execution_count": 28,
   "metadata": {},
   "outputs": [],
   "source": [
    "# Mannual cosine metric\n",
    "def cosine_dist(x, y):\n",
    "    return 1 - np.dot(x, y) / norm(x) / norm(y)"
   ]
  },
  {
   "cell_type": "code",
   "execution_count": 30,
   "metadata": {},
   "outputs": [
    {
     "data": {
      "text/plain": [
       "NearestNeighbors(algorithm='brute', metric='cosine', n_jobs=-1, n_neighbors=10)"
      ]
     },
     "execution_count": 30,
     "metadata": {},
     "output_type": "execute_result"
    }
   ],
   "source": [
    "# Model with metric of library\n",
    "model = NearestNeighbors(n_neighbors=K, algorithm='brute', metric='cosine', n_jobs=-1)\n",
    "model.fit(coordinates)"
   ]
  },
  {
   "cell_type": "code",
   "execution_count": 31,
   "metadata": {},
   "outputs": [
    {
     "data": {
      "text/plain": [
       "NearestNeighbors(algorithm='brute',\n",
       "                 metric=<function cosine_dist at 0x000001789D9EF820>, n_jobs=-1,\n",
       "                 n_neighbors=10)"
      ]
     },
     "execution_count": 31,
     "metadata": {},
     "output_type": "execute_result"
    }
   ],
   "source": [
    "# Model with mannual metric\n",
    "nbrs = NearestNeighbors(n_neighbors=K, algorithm='brute', metric=cosine_dist, n_jobs=-1)\n",
    "nbrs.fit(coordinates)"
   ]
  },
  {
   "cell_type": "code",
   "execution_count": 33,
   "metadata": {},
   "outputs": [
    {
     "data": {
      "text/plain": [
       "(array([[5.9604645e-08, 2.8176874e-01, 3.7507415e-01, 3.8698512e-01,\n",
       "         4.0976185e-01, 4.4179761e-01, 4.5175934e-01, 4.5987982e-01,\n",
       "         4.6927774e-01, 4.6952456e-01]], dtype=float32),\n",
       " array([[   99, 29127, 12678, 48484, 74193, 69571, 10901, 10371,  6556,\n",
       "         47989]], dtype=int64))"
      ]
     },
     "execution_count": 33,
     "metadata": {},
     "output_type": "execute_result"
    }
   ],
   "source": [
    "# Find KNN with library metric model\n",
    "model.kneighbors([word2vec[w]], K, return_distance=True)"
   ]
  },
  {
   "cell_type": "code",
   "execution_count": 34,
   "metadata": {},
   "outputs": [
    {
     "data": {
      "text/plain": [
       "(array([[0.        , 0.28176874, 0.37507415, 0.38698506, 0.40976185,\n",
       "         0.4417976 , 0.45175928, 0.45987982, 0.46927774, 0.4695245 ]],\n",
       "       dtype=float32),\n",
       " array([[   99, 29127, 12678, 48484, 74193, 69571, 10901, 10371,  6556,\n",
       "         47989]], dtype=int64))"
      ]
     },
     "execution_count": 34,
     "metadata": {},
     "output_type": "execute_result"
    }
   ],
   "source": [
    "# Find KNN with mannual metric model\n",
    "nbrs.kneighbors([word2vec[w]], K, return_distance=True)"
   ]
  },
  {
   "cell_type": "code",
   "execution_count": 36,
   "metadata": {},
   "outputs": [
    {
     "name": "stdout",
     "output_type": "stream",
     "text": [
      "[3.7507421e-01 4.0976179e-01 5.9604645e-08 2.8176874e-01 3.8698506e-01\n",
      " 4.4179761e-01 4.6927768e-01 4.6952450e-01 4.5987982e-01 4.5175934e-01]\n",
      "[12678 74193    99 29127 48484 69571  6556 47989 10371 10901]\n"
     ]
    }
   ],
   "source": [
    "# %%timeit\n",
    "res = np.dot(word2vec[w], coordinates.T) / norm(coordinates[np.where(list_word == w)]) / norm(coordinates, axis = 1)\n",
    "res = 1 - res\n",
    "index = np.argpartition(res, K)[:K]\n",
    "print(res[index])\n",
    "print(index)"
   ]
  },
  {
   "cell_type": "code",
   "execution_count": 37,
   "metadata": {},
   "outputs": [
    {
     "name": "stdout",
     "output_type": "stream",
     "text": [
      "['nhà_chung' 'nhà_ở' 'nhà' 'nhà_tầng' 'nhà_di_động' 'nhà_nguyên' 'khu_nhà'\n",
      " 'nhà_trệt' 'nhà_trọ' 'nhà_cao_tầng']\n"
     ]
    }
   ],
   "source": [
    "# Print K nearest neighbor words\n",
    "print(list_word[index])"
   ]
  },
  {
   "cell_type": "code",
   "execution_count": 41,
   "metadata": {},
   "outputs": [
    {
     "name": "stdout",
     "output_type": "stream",
     "text": [
      "[['nhà' 'nhà_nguyên' 'nhà_trệt' 'nhà_di_động' 'trên_nhà' '18,000' 'nàh'\n",
      "  'ttxvn/vietnam' 'tay_không_bắt_giặc' 'nhà_phụ']]\n"
     ]
    }
   ],
   "source": [
    "# Euclidean distance\n",
    "model = NearestNeighbors(n_neighbors=K, algorithm='brute', metric='euclidean', n_jobs=-1)\n",
    "model.fit(coordinates)\n",
    "dist, index = model.kneighbors([word2vec[w]], K, return_distance=True)\n",
    "print(list_word[index])"
   ]
  },
  {
   "cell_type": "code",
   "execution_count": 44,
   "metadata": {},
   "outputs": [
    {
     "name": "stdout",
     "output_type": "stream",
     "text": [
      "[['băng_sơn' 'vũ_kỳ' 'tàng_thư' '2013-2014' 'lên_nước' 'cao_bá_quát'\n",
      "  'ấm_dần_lên' 'tảng_băng_trôi' 'nonthaburi' 'khuyển']]\n"
     ]
    },
    {
     "name": "stderr",
     "output_type": "stream",
     "text": [
      "E:\\UET\\Lab\\App\\Anaconda3\\lib\\site-packages\\sklearn\\metrics\\pairwise.py:1765: DataConversionWarning: Data was converted to boolean for metric dice\n",
      "  warnings.warn(msg, DataConversionWarning)\n"
     ]
    }
   ],
   "source": [
    "# Dice distance\n",
    "model = NearestNeighbors(n_neighbors=K, algorithm='brute', metric='dice', n_jobs=-1)\n",
    "model.fit(coordinates)\n",
    "dist, index = model.kneighbors([word2vec[w]], K, return_distance=True)\n",
    "print(list_word[index])"
   ]
  },
  {
   "cell_type": "code",
   "execution_count": 45,
   "metadata": {},
   "outputs": [
    {
     "name": "stdout",
     "output_type": "stream",
     "text": [
      "[['băng_sơn' 'vũ_kỳ' 'tàng_thư' '2013-2014' 'lên_nước' 'cao_bá_quát'\n",
      "  'ấm_dần_lên' 'tảng_băng_trôi' 'nonthaburi' 'khuyển']]\n"
     ]
    },
    {
     "name": "stderr",
     "output_type": "stream",
     "text": [
      "E:\\UET\\Lab\\App\\Anaconda3\\lib\\site-packages\\sklearn\\metrics\\pairwise.py:1765: DataConversionWarning: Data was converted to boolean for metric jaccard\n",
      "  warnings.warn(msg, DataConversionWarning)\n"
     ]
    }
   ],
   "source": [
    "# Jaccard distance\n",
    "model = NearestNeighbors(n_neighbors=K, algorithm='brute', metric='jaccard', n_jobs=-1)\n",
    "model.fit(coordinates)\n",
    "dist, index = model.kneighbors([word2vec[w]], K, return_distance=True)\n",
    "print(list_word[index])"
   ]
  }
 ],
 "metadata": {
  "kernelspec": {
   "display_name": "Python 3",
   "language": "python",
   "name": "python3"
  },
  "language_info": {
   "codemirror_mode": {
    "name": "ipython",
    "version": 3
   },
   "file_extension": ".py",
   "mimetype": "text/x-python",
   "name": "python",
   "nbconvert_exporter": "python",
   "pygments_lexer": "ipython3",
   "version": "3.8.5"
  }
 },
 "nbformat": 4,
 "nbformat_minor": 4
}
