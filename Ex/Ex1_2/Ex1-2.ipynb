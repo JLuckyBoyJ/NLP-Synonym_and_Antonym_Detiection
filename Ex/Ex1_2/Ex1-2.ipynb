{
 "cells": [
  {
   "cell_type": "code",
   "execution_count": 1,
   "metadata": {},
   "outputs": [],
   "source": [
    "# Import libraries\n",
    "import pandas as pd\n",
    "import numpy as np\n",
    "import scipy\n",
    "from scipy import stats\n",
    "from scipy import spatial\n",
    "from scipy.spatial import distance\n",
    "from numpy.linalg import norm\n",
    "from sklearn.neighbors import NearestNeighbors"
   ]
  },
  {
   "cell_type": "code",
   "execution_count": 2,
   "metadata": {},
   "outputs": [],
   "source": [
    "# Load word2vec data\n",
    "word2vec = {}\n",
    "coordinates = []\n",
    "with open(\"../word2vec/W2V_150.txt\", 'r', encoding='utf-8') as f:\n",
    "    N = int(f.readline())\n",
    "    dim = int(f.readline())\n",
    "    for i in range(N):\n",
    "        line = f.readline()\n",
    "        elements = line.split()\n",
    "        word2vec[elements[0]] = np.asanyarray([float(i) for i in elements[1:]], dtype=np.float32)\n",
    "        coordinates.append(word2vec[elements[0]])\n",
    "coordinates = np.array(coordinates)\n",
    "list_word = np.array(list(word2vec.keys()))"
   ]
  },
  {
   "cell_type": "markdown",
   "metadata": {},
   "source": [
    "# Ex1:"
   ]
  },
  {
   "cell_type": "markdown",
   "metadata": {},
   "source": [
    "a, Using cosine distance"
   ]
  },
  {
   "cell_type": "code",
   "execution_count": 3,
   "metadata": {},
   "outputs": [],
   "source": [
    "# Cosine metric\n",
    "def cosine_dist(x, y):\n",
    "    return 1 - distance.cosine(x, y)"
   ]
  },
  {
   "cell_type": "markdown",
   "metadata": {},
   "source": [
    "b, Using other metrics"
   ]
  },
  {
   "cell_type": "code",
   "execution_count": 4,
   "metadata": {},
   "outputs": [],
   "source": [
    "# Dot product distance\n",
    "def dot_product_distance(x, y):\n",
    "    pass"
   ]
  },
  {
   "cell_type": "code",
   "execution_count": 5,
   "metadata": {},
   "outputs": [],
   "source": [
    "# Euclidean dstance\n",
    "def Euclidean_dist(x, y):\n",
    "    return distance.euclidean(x, y)"
   ]
  },
  {
   "cell_type": "code",
   "execution_count": 6,
   "metadata": {},
   "outputs": [],
   "source": [
    "# Dice distance\n",
    "def Dice_dist(x, y):\n",
    "    return distance.dice(x, y)"
   ]
  },
  {
   "cell_type": "code",
   "execution_count": 7,
   "metadata": {},
   "outputs": [],
   "source": [
    "# Jaccard distance\n",
    "def Jaccard_dist(x, y):\n",
    "    return distance.jaccard(x, y)"
   ]
  },
  {
   "cell_type": "code",
   "execution_count": 8,
   "metadata": {},
   "outputs": [
    {
     "name": "stdout",
     "output_type": "stream",
     "text": [
      "trai nam\n",
      "Cosine distance is  0.13904590904712677\n",
      "Dot product distance is  None\n",
      "Euclidean dstance is  15.099640846252441\n",
      "Dice distance is  7.688263969182271\n",
      "Jaccard distance is  1.0\n"
     ]
    }
   ],
   "source": [
    "word1 = \"trai\"\n",
    "word2 = \"nam\"\n",
    "print(word1, word2)\n",
    "print(\"Cosine distance is \", cosine_dist(word2vec[word1], word2vec[word2]))\n",
    "print(\"Dot product distance is \", dot_product_distance(word2vec[word1], word2vec[word2]))\n",
    "print(\"Euclidean dstance is \", Euclidean_dist(word2vec[word1], word2vec[word2]))\n",
    "print(\"Dice distance is \", Dice_dist(word2vec[word1], word2vec[word2]))\n",
    "print(\"Jaccard distance is \", Jaccard_dist(word2vec[word1], word2vec[word2]))"
   ]
  },
  {
   "cell_type": "code",
   "execution_count": 9,
   "metadata": {},
   "outputs": [
    {
     "data": {
      "text/html": [
       "<div>\n",
       "<style scoped>\n",
       "    .dataframe tbody tr th:only-of-type {\n",
       "        vertical-align: middle;\n",
       "    }\n",
       "\n",
       "    .dataframe tbody tr th {\n",
       "        vertical-align: top;\n",
       "    }\n",
       "\n",
       "    .dataframe thead th {\n",
       "        text-align: right;\n",
       "    }\n",
       "</style>\n",
       "<table border=\"1\" class=\"dataframe\">\n",
       "  <thead>\n",
       "    <tr style=\"text-align: right;\">\n",
       "      <th></th>\n",
       "      <th>Word1</th>\n",
       "      <th>Word2</th>\n",
       "      <th>POS</th>\n",
       "      <th>Sim1</th>\n",
       "      <th>Sim2</th>\n",
       "      <th>STD</th>\n",
       "    </tr>\n",
       "  </thead>\n",
       "  <tbody>\n",
       "    <tr>\n",
       "      <th>0</th>\n",
       "      <td>biến</td>\n",
       "      <td>ngập</td>\n",
       "      <td>V</td>\n",
       "      <td>3.13</td>\n",
       "      <td>5.22</td>\n",
       "      <td>0.72</td>\n",
       "    </tr>\n",
       "    <tr>\n",
       "      <th>1</th>\n",
       "      <td>nhà_thi_đấu</td>\n",
       "      <td>nhà</td>\n",
       "      <td>N</td>\n",
       "      <td>3.07</td>\n",
       "      <td>5.12</td>\n",
       "      <td>1.18</td>\n",
       "    </tr>\n",
       "    <tr>\n",
       "      <th>2</th>\n",
       "      <td>động</td>\n",
       "      <td>tĩnh</td>\n",
       "      <td>V</td>\n",
       "      <td>0.60</td>\n",
       "      <td>1.00</td>\n",
       "      <td>0.95</td>\n",
       "    </tr>\n",
       "    <tr>\n",
       "      <th>3</th>\n",
       "      <td>khuyết</td>\n",
       "      <td>ưu</td>\n",
       "      <td>N</td>\n",
       "      <td>0.20</td>\n",
       "      <td>0.33</td>\n",
       "      <td>0.40</td>\n",
       "    </tr>\n",
       "    <tr>\n",
       "      <th>4</th>\n",
       "      <td>cõi_tục</td>\n",
       "      <td>cõi_âm</td>\n",
       "      <td>N</td>\n",
       "      <td>0.60</td>\n",
       "      <td>1.00</td>\n",
       "      <td>0.95</td>\n",
       "    </tr>\n",
       "    <tr>\n",
       "      <th>...</th>\n",
       "      <td>...</td>\n",
       "      <td>...</td>\n",
       "      <td>...</td>\n",
       "      <td>...</td>\n",
       "      <td>...</td>\n",
       "      <td>...</td>\n",
       "    </tr>\n",
       "    <tr>\n",
       "      <th>395</th>\n",
       "      <td>lình_xình</td>\n",
       "      <td>nặng_tình</td>\n",
       "      <td>A</td>\n",
       "      <td>1.33</td>\n",
       "      <td>2.22</td>\n",
       "      <td>1.14</td>\n",
       "    </tr>\n",
       "    <tr>\n",
       "      <th>396</th>\n",
       "      <td>người_làm</td>\n",
       "      <td>người_bị_hại</td>\n",
       "      <td>N</td>\n",
       "      <td>2.20</td>\n",
       "      <td>3.67</td>\n",
       "      <td>0.83</td>\n",
       "    </tr>\n",
       "    <tr>\n",
       "      <th>397</th>\n",
       "      <td>cõi_tục</td>\n",
       "      <td>trần_gian</td>\n",
       "      <td>N</td>\n",
       "      <td>5.40</td>\n",
       "      <td>9.00</td>\n",
       "      <td>0.71</td>\n",
       "    </tr>\n",
       "    <tr>\n",
       "      <th>398</th>\n",
       "      <td>chần_chừ</td>\n",
       "      <td>lảo_đảo</td>\n",
       "      <td>V</td>\n",
       "      <td>3.20</td>\n",
       "      <td>5.33</td>\n",
       "      <td>0.98</td>\n",
       "    </tr>\n",
       "    <tr>\n",
       "      <th>399</th>\n",
       "      <td>khử_trùng</td>\n",
       "      <td>sát_trùng</td>\n",
       "      <td>V</td>\n",
       "      <td>5.53</td>\n",
       "      <td>9.22</td>\n",
       "      <td>0.81</td>\n",
       "    </tr>\n",
       "  </tbody>\n",
       "</table>\n",
       "<p>400 rows × 6 columns</p>\n",
       "</div>"
      ],
      "text/plain": [
       "           Word1         Word2 POS  Sim1  Sim2   STD\n",
       "0           biến          ngập   V  3.13  5.22  0.72\n",
       "1    nhà_thi_đấu           nhà   N  3.07  5.12  1.18\n",
       "2           động          tĩnh   V  0.60  1.00  0.95\n",
       "3         khuyết            ưu   N  0.20  0.33  0.40\n",
       "4        cõi_tục        cõi_âm   N  0.60  1.00  0.95\n",
       "..           ...           ...  ..   ...   ...   ...\n",
       "395    lình_xình     nặng_tình   A  1.33  2.22  1.14\n",
       "396    người_làm  người_bị_hại   N  2.20  3.67  0.83\n",
       "397      cõi_tục     trần_gian   N  5.40  9.00  0.71\n",
       "398     chần_chừ       lảo_đảo   V  3.20  5.33  0.98\n",
       "399    khử_trùng     sát_trùng   V  5.53  9.22  0.81\n",
       "\n",
       "[400 rows x 6 columns]"
      ]
     },
     "execution_count": 9,
     "metadata": {},
     "output_type": "execute_result"
    }
   ],
   "source": [
    "# Load ViSim to test\n",
    "data = pd.read_csv(\"../datasets/ViSim-400/Visim-400.txt\", sep = \"\\t\")\n",
    "data"
   ]
  },
  {
   "cell_type": "code",
   "execution_count": 11,
   "metadata": {},
   "outputs": [],
   "source": [
    "def cosine_word(x, y):\n",
    "    if x not in word2vec or y not in word2vec:\n",
    "        return 0\n",
    "    return 1 - distance.cosine(word2vec[x], word2vec[y])"
   ]
  },
  {
   "cell_type": "code",
   "execution_count": 12,
   "metadata": {},
   "outputs": [],
   "source": [
    "data[\"cos\"] = data.apply(lambda x : cosine_word(x[\"Word1\"], x[\"Word2\"]), axis = 1)"
   ]
  },
  {
   "cell_type": "code",
   "execution_count": 13,
   "metadata": {},
   "outputs": [],
   "source": [
    "data[\"True_sim\"] = data[\"Sim2\"] / 10"
   ]
  },
  {
   "cell_type": "code",
   "execution_count": 27,
   "metadata": {},
   "outputs": [
    {
     "data": {
      "text/html": [
       "<div>\n",
       "<style scoped>\n",
       "    .dataframe tbody tr th:only-of-type {\n",
       "        vertical-align: middle;\n",
       "    }\n",
       "\n",
       "    .dataframe tbody tr th {\n",
       "        vertical-align: top;\n",
       "    }\n",
       "\n",
       "    .dataframe thead th {\n",
       "        text-align: right;\n",
       "    }\n",
       "</style>\n",
       "<table border=\"1\" class=\"dataframe\">\n",
       "  <thead>\n",
       "    <tr style=\"text-align: right;\">\n",
       "      <th></th>\n",
       "      <th>Word1</th>\n",
       "      <th>Word2</th>\n",
       "      <th>POS</th>\n",
       "      <th>Sim1</th>\n",
       "      <th>Sim2</th>\n",
       "      <th>STD</th>\n",
       "      <th>cos</th>\n",
       "      <th>True_sim</th>\n",
       "    </tr>\n",
       "  </thead>\n",
       "  <tbody>\n",
       "    <tr>\n",
       "      <th>0</th>\n",
       "      <td>biến</td>\n",
       "      <td>ngập</td>\n",
       "      <td>V</td>\n",
       "      <td>3.13</td>\n",
       "      <td>5.22</td>\n",
       "      <td>0.72</td>\n",
       "      <td>-0.004912</td>\n",
       "      <td>0.522</td>\n",
       "    </tr>\n",
       "    <tr>\n",
       "      <th>1</th>\n",
       "      <td>nhà_thi_đấu</td>\n",
       "      <td>nhà</td>\n",
       "      <td>N</td>\n",
       "      <td>3.07</td>\n",
       "      <td>5.12</td>\n",
       "      <td>1.18</td>\n",
       "      <td>0.082523</td>\n",
       "      <td>0.512</td>\n",
       "    </tr>\n",
       "    <tr>\n",
       "      <th>2</th>\n",
       "      <td>động</td>\n",
       "      <td>tĩnh</td>\n",
       "      <td>V</td>\n",
       "      <td>0.60</td>\n",
       "      <td>1.00</td>\n",
       "      <td>0.95</td>\n",
       "      <td>0.277086</td>\n",
       "      <td>0.100</td>\n",
       "    </tr>\n",
       "    <tr>\n",
       "      <th>3</th>\n",
       "      <td>khuyết</td>\n",
       "      <td>ưu</td>\n",
       "      <td>N</td>\n",
       "      <td>0.20</td>\n",
       "      <td>0.33</td>\n",
       "      <td>0.40</td>\n",
       "      <td>0.176799</td>\n",
       "      <td>0.033</td>\n",
       "    </tr>\n",
       "    <tr>\n",
       "      <th>5</th>\n",
       "      <td>thủ_pháp</td>\n",
       "      <td>biện_pháp</td>\n",
       "      <td>N</td>\n",
       "      <td>4.13</td>\n",
       "      <td>6.88</td>\n",
       "      <td>1.26</td>\n",
       "      <td>0.402366</td>\n",
       "      <td>0.688</td>\n",
       "    </tr>\n",
       "    <tr>\n",
       "      <th>...</th>\n",
       "      <td>...</td>\n",
       "      <td>...</td>\n",
       "      <td>...</td>\n",
       "      <td>...</td>\n",
       "      <td>...</td>\n",
       "      <td>...</td>\n",
       "      <td>...</td>\n",
       "      <td>...</td>\n",
       "    </tr>\n",
       "    <tr>\n",
       "      <th>393</th>\n",
       "      <td>triều_đại</td>\n",
       "      <td>cổ_đại</td>\n",
       "      <td>N</td>\n",
       "      <td>3.67</td>\n",
       "      <td>6.12</td>\n",
       "      <td>1.14</td>\n",
       "      <td>0.274376</td>\n",
       "      <td>0.612</td>\n",
       "    </tr>\n",
       "    <tr>\n",
       "      <th>395</th>\n",
       "      <td>lình_xình</td>\n",
       "      <td>nặng_tình</td>\n",
       "      <td>A</td>\n",
       "      <td>1.33</td>\n",
       "      <td>2.22</td>\n",
       "      <td>1.14</td>\n",
       "      <td>0.170494</td>\n",
       "      <td>0.222</td>\n",
       "    </tr>\n",
       "    <tr>\n",
       "      <th>396</th>\n",
       "      <td>người_làm</td>\n",
       "      <td>người_bị_hại</td>\n",
       "      <td>N</td>\n",
       "      <td>2.20</td>\n",
       "      <td>3.67</td>\n",
       "      <td>0.83</td>\n",
       "      <td>0.135008</td>\n",
       "      <td>0.367</td>\n",
       "    </tr>\n",
       "    <tr>\n",
       "      <th>398</th>\n",
       "      <td>chần_chừ</td>\n",
       "      <td>lảo_đảo</td>\n",
       "      <td>V</td>\n",
       "      <td>3.20</td>\n",
       "      <td>5.33</td>\n",
       "      <td>0.98</td>\n",
       "      <td>0.112939</td>\n",
       "      <td>0.533</td>\n",
       "    </tr>\n",
       "    <tr>\n",
       "      <th>399</th>\n",
       "      <td>khử_trùng</td>\n",
       "      <td>sát_trùng</td>\n",
       "      <td>V</td>\n",
       "      <td>5.53</td>\n",
       "      <td>9.22</td>\n",
       "      <td>0.81</td>\n",
       "      <td>0.705227</td>\n",
       "      <td>0.922</td>\n",
       "    </tr>\n",
       "  </tbody>\n",
       "</table>\n",
       "<p>344 rows × 8 columns</p>\n",
       "</div>"
      ],
      "text/plain": [
       "           Word1         Word2 POS  Sim1  Sim2   STD       cos  True_sim\n",
       "0           biến          ngập   V  3.13  5.22  0.72 -0.004912     0.522\n",
       "1    nhà_thi_đấu           nhà   N  3.07  5.12  1.18  0.082523     0.512\n",
       "2           động          tĩnh   V  0.60  1.00  0.95  0.277086     0.100\n",
       "3         khuyết            ưu   N  0.20  0.33  0.40  0.176799     0.033\n",
       "5       thủ_pháp     biện_pháp   N  4.13  6.88  1.26  0.402366     0.688\n",
       "..           ...           ...  ..   ...   ...   ...       ...       ...\n",
       "393    triều_đại        cổ_đại   N  3.67  6.12  1.14  0.274376     0.612\n",
       "395    lình_xình     nặng_tình   A  1.33  2.22  1.14  0.170494     0.222\n",
       "396    người_làm  người_bị_hại   N  2.20  3.67  0.83  0.135008     0.367\n",
       "398     chần_chừ       lảo_đảo   V  3.20  5.33  0.98  0.112939     0.533\n",
       "399    khử_trùng     sát_trùng   V  5.53  9.22  0.81  0.705227     0.922\n",
       "\n",
       "[344 rows x 8 columns]"
      ]
     },
     "execution_count": 27,
     "metadata": {},
     "output_type": "execute_result"
    }
   ],
   "source": [
    "for index, row in data.iterrows():\n",
    "    if row[\"Word1\"] not in word2vec or row[\"Word2\"] not in word2vec:\n",
    "        data = data.drop(index)\n",
    "data"
   ]
  },
  {
   "cell_type": "code",
   "execution_count": 28,
   "metadata": {},
   "outputs": [
    {
     "name": "stdout",
     "output_type": "stream",
     "text": [
      " Pearson correlation coefficient:  (0.44681974395860896, 2.7581796904741187e-18)\n",
      " Spearman's rank correlation coefficient:  SpearmanrResult(correlation=0.4077568887734169, pvalue=3.26456245952008e-15)\n"
     ]
    }
   ],
   "source": [
    "print(\" Pearson correlation coefficient: \", stats.pearsonr(data[\"cos\"], data[\"True_sim\"]))\n",
    "print(\" Spearman's rank correlation coefficient: \", stats.spearmanr(data[\"cos\"], data[\"True_sim\"]))"
   ]
  },
  {
   "cell_type": "markdown",
   "metadata": {},
   "source": [
    "# Ex2:"
   ]
  },
  {
   "cell_type": "code",
   "execution_count": 16,
   "metadata": {},
   "outputs": [],
   "source": [
    "# Init parameters\n",
    "# Number of nearest neighbors\n",
    "K = 10\n",
    "# Word queried\n",
    "w = \"nhà\""
   ]
  },
  {
   "cell_type": "code",
   "execution_count": 17,
   "metadata": {},
   "outputs": [
    {
     "data": {
      "text/plain": [
       "NearestNeighbors(algorithm='brute', metric='cosine', n_jobs=-1, n_neighbors=10)"
      ]
     },
     "execution_count": 17,
     "metadata": {},
     "output_type": "execute_result"
    }
   ],
   "source": [
    "# Model with metric of library\n",
    "model = NearestNeighbors(n_neighbors=K, algorithm='brute', metric='cosine', n_jobs=-1)\n",
    "model.fit(coordinates)"
   ]
  },
  {
   "cell_type": "code",
   "execution_count": 18,
   "metadata": {},
   "outputs": [
    {
     "data": {
      "text/plain": [
       "NearestNeighbors(algorithm='brute',\n",
       "                 metric=<function cosine_dist at 0x000001AE271F0C10>, n_jobs=-1,\n",
       "                 n_neighbors=10)"
      ]
     },
     "execution_count": 18,
     "metadata": {},
     "output_type": "execute_result"
    }
   ],
   "source": [
    "# Model with mannual metric\n",
    "nbrs = NearestNeighbors(n_neighbors=K, algorithm='brute', metric=cosine_dist, n_jobs=-1)\n",
    "nbrs.fit(coordinates)"
   ]
  },
  {
   "cell_type": "code",
   "execution_count": 19,
   "metadata": {},
   "outputs": [
    {
     "data": {
      "text/plain": [
       "(array([[5.9604645e-08, 2.8176874e-01, 3.7507415e-01, 3.8698512e-01,\n",
       "         4.0976185e-01, 4.4179761e-01, 4.5175934e-01, 4.5987982e-01,\n",
       "         4.6927774e-01, 4.6952456e-01]], dtype=float32),\n",
       " array([[   99, 29127, 12678, 48484, 74193, 69571, 10901, 10371,  6556,\n",
       "         47989]], dtype=int64))"
      ]
     },
     "execution_count": 19,
     "metadata": {},
     "output_type": "execute_result"
    }
   ],
   "source": [
    "# Find KNN with library metric model\n",
    "model.kneighbors([word2vec[w]], K, return_distance=True)"
   ]
  },
  {
   "cell_type": "code",
   "execution_count": 20,
   "metadata": {},
   "outputs": [
    {
     "data": {
      "text/plain": [
       "(array([[-0.37769967, -0.36435413, -0.33553994, -0.33494672, -0.29812038,\n",
       "         -0.29788288, -0.2915615 , -0.29100323, -0.28186232, -0.27850887]],\n",
       "       dtype=float32),\n",
       " array([[11571, 29938, 11832, 19404, 13874, 11206, 43939,   759, 15388,\n",
       "         21047]], dtype=int64))"
      ]
     },
     "execution_count": 20,
     "metadata": {},
     "output_type": "execute_result"
    }
   ],
   "source": [
    "# Find KNN with mannual metric model\n",
    "nbrs.kneighbors([word2vec[w]], K, return_distance=True)"
   ]
  },
  {
   "cell_type": "code",
   "execution_count": 21,
   "metadata": {},
   "outputs": [
    {
     "name": "stdout",
     "output_type": "stream",
     "text": [
      "[3.7507421e-01 4.0976179e-01 5.9604645e-08 2.8176874e-01 3.8698506e-01\n",
      " 4.4179761e-01 4.6927768e-01 4.6952450e-01 4.5987982e-01 4.5175934e-01]\n",
      "[12678 74193    99 29127 48484 69571  6556 47989 10371 10901]\n"
     ]
    }
   ],
   "source": [
    "# Manual calculate the cosine distance\n",
    "res = np.dot(word2vec[w], coordinates.T) / norm(coordinates[np.where(list_word == w)]) / norm(coordinates, axis = 1)\n",
    "res = 1 - res\n",
    "# Find K smallest distance (not increasing order just K smallest)\n",
    "index = np.argpartition(res, K)[:K]\n",
    "print(res[index])\n",
    "print(index)"
   ]
  },
  {
   "cell_type": "code",
   "execution_count": 22,
   "metadata": {},
   "outputs": [
    {
     "name": "stdout",
     "output_type": "stream",
     "text": [
      "Queried word is:  nhà  with cosine distance.\n",
      "['nhà_chung' 'nhà_ở' 'nhà' 'nhà_tầng' 'nhà_di_động' 'nhà_nguyên' 'khu_nhà'\n",
      " 'nhà_trệt' 'nhà_trọ' 'nhà_cao_tầng']\n"
     ]
    }
   ],
   "source": [
    "# Print K nearest neighbor words\n",
    "print(\"Queried word is: \", w, \" with cosine distance.\")\n",
    "print(list_word[index])"
   ]
  },
  {
   "cell_type": "code",
   "execution_count": 23,
   "metadata": {},
   "outputs": [
    {
     "name": "stdout",
     "output_type": "stream",
     "text": [
      "Queried word is:  nhà  with Euclidean distance.\n",
      "[['nhà' 'nhà_nguyên' 'nhà_trệt' 'nhà_di_động' 'trên_nhà' '18,000' 'nàh'\n",
      "  'ttxvn/vietnam' 'tay_không_bắt_giặc' 'nhà_phụ']]\n"
     ]
    }
   ],
   "source": [
    "# Euclidean distance\n",
    "model = NearestNeighbors(n_neighbors=K, algorithm='brute', metric='euclidean', n_jobs=-1)\n",
    "model.fit(coordinates)\n",
    "dist, index = model.kneighbors([word2vec[w]], K, return_distance=True)\n",
    "print(\"Queried word is: \", w, \" with Euclidean distance.\")\n",
    "print(list_word[index])"
   ]
  },
  {
   "cell_type": "code",
   "execution_count": 24,
   "metadata": {},
   "outputs": [
    {
     "name": "stdout",
     "output_type": "stream",
     "text": [
      "Queried word is:  nhà  with Dice distance.\n",
      "[['băng_sơn' 'vũ_kỳ' 'tàng_thư' '2013-2014' 'lên_nước' 'cao_bá_quát'\n",
      "  'ấm_dần_lên' 'tảng_băng_trôi' 'nonthaburi' 'khuyển']]\n"
     ]
    },
    {
     "name": "stderr",
     "output_type": "stream",
     "text": [
      "E:\\UET\\Lab\\App\\Anaconda3\\lib\\site-packages\\sklearn\\metrics\\pairwise.py:1765: DataConversionWarning: Data was converted to boolean for metric dice\n",
      "  warnings.warn(msg, DataConversionWarning)\n"
     ]
    }
   ],
   "source": [
    "# Dice distance\n",
    "model = NearestNeighbors(n_neighbors=K, algorithm='brute', metric='dice', n_jobs=-1)\n",
    "model.fit(coordinates)\n",
    "dist, index = model.kneighbors([word2vec[w]], K, return_distance=True)\n",
    "print(\"Queried word is: \", w, \" with Dice distance.\")\n",
    "print(list_word[index])"
   ]
  },
  {
   "cell_type": "code",
   "execution_count": 25,
   "metadata": {},
   "outputs": [
    {
     "name": "stderr",
     "output_type": "stream",
     "text": [
      "E:\\UET\\Lab\\App\\Anaconda3\\lib\\site-packages\\sklearn\\metrics\\pairwise.py:1765: DataConversionWarning: Data was converted to boolean for metric jaccard\n",
      "  warnings.warn(msg, DataConversionWarning)\n"
     ]
    },
    {
     "name": "stdout",
     "output_type": "stream",
     "text": [
      "Queried word is:  nhà  with Jaccard distance.\n",
      "[['băng_sơn' 'vũ_kỳ' 'tàng_thư' '2013-2014' 'lên_nước' 'cao_bá_quát'\n",
      "  'ấm_dần_lên' 'tảng_băng_trôi' 'nonthaburi' 'khuyển']]\n"
     ]
    }
   ],
   "source": [
    "# Jaccard distance\n",
    "model = NearestNeighbors(n_neighbors=K, algorithm='brute', metric='jaccard', n_jobs=-1)\n",
    "model.fit(coordinates)\n",
    "dist, index = model.kneighbors([word2vec[w]], K, return_distance=True)\n",
    "print(\"Queried word is: \", w, \" with Jaccard distance.\")\n",
    "print(list_word[index])"
   ]
  }
 ],
 "metadata": {
  "kernelspec": {
   "display_name": "Python 3",
   "language": "python",
   "name": "python3"
  },
  "language_info": {
   "codemirror_mode": {
    "name": "ipython",
    "version": 3
   },
   "file_extension": ".py",
   "mimetype": "text/x-python",
   "name": "python",
   "nbconvert_exporter": "python",
   "pygments_lexer": "ipython3",
   "version": "3.8.5"
  }
 },
 "nbformat": 4,
 "nbformat_minor": 4
}
